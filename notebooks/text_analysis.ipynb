{
  "metadata": {
    "kernelspec": {
      "name": "python",
      "display_name": "Python (Pyodide)",
      "language": "python"
    },
    "language_info": {
      "codemirror_mode": {
        "name": "python",
        "version": 3
      },
      "file_extension": ".py",
      "mimetype": "text/x-python",
      "name": "python",
      "nbconvert_exporter": "python",
      "pygments_lexer": "ipython3",
      "version": "3.8"
    }
  },
  "nbformat_minor": 4,
  "nbformat": 4,
  "cells": [
    {
      "cell_type": "markdown",
      "source": "## Creating a Jupyter Notebook file",
      "metadata": {}
    },
    {
      "cell_type": "code",
      "source": "import nltk\nimport pyodide_http\npyodide_http.patch_all()\nimport matplotlib\n%matplotlib inline\n%pip install tk\nimport tk",
      "metadata": {
        "trusted": true
      },
      "execution_count": 13,
      "outputs": []
    },
    {
      "cell_type": "code",
      "source": "# nltk.download('all-corpora') this is overkill! \nnltk.download('genesis')\nnltk.download('gutenberg')\nnltk.download('inaugural')\nnltk.download('nps_chat')\nnltk.download('treebank')\nnltk.download('webtext')\nnltk.download('wordnet')",
      "metadata": {
        "trusted": true
      },
      "execution_count": 6,
      "outputs": [
        {
          "name": "stderr",
          "text": "[nltk_data] Downloading package genesis to /home/pyodide/nltk_data...\n[nltk_data]   Unzipping corpora/genesis.zip.\n[nltk_data] Downloading package gutenberg to\n[nltk_data]     /home/pyodide/nltk_data...\n[nltk_data]   Unzipping corpora/gutenberg.zip.\n[nltk_data] Downloading package inaugural to\n[nltk_data]     /home/pyodide/nltk_data...\n[nltk_data]   Unzipping corpora/inaugural.zip.\n[nltk_data] Downloading package nps_chat to /home/pyodide/nltk_data...\n[nltk_data]   Unzipping corpora/nps_chat.zip.\n[nltk_data] Downloading package treebank to /home/pyodide/nltk_data...\n[nltk_data]   Unzipping corpora/treebank.zip.\n[nltk_data] Downloading package webtext to /home/pyodide/nltk_data...\n[nltk_data]   Unzipping corpora/webtext.zip.\n[nltk_data] Downloading package wordnet to /home/pyodide/nltk_data...\n",
          "output_type": "stream"
        },
        {
          "execution_count": 6,
          "output_type": "execute_result",
          "data": {
            "text/plain": "True"
          },
          "metadata": {}
        }
      ]
    },
    {
      "cell_type": "code",
      "source": "from nltk.book import *",
      "metadata": {
        "trusted": true
      },
      "execution_count": 7,
      "outputs": [
        {
          "name": "stdout",
          "text": "*** Introductory Examples for the NLTK Book ***\nLoading text1, ..., text9 and sent1, ..., sent9\nType the name of the text or sentence to view it.\nType: 'texts()' or 'sents()' to list the materials.\ntext1: Moby Dick by Herman Melville 1851\ntext2: Sense and Sensibility by Jane Austen 1811\ntext3: The Book of Genesis\ntext4: Inaugural Address Corpus\ntext5: Chat Corpus\ntext6: Monty Python and the Holy Grail\ntext7: Wall Street Journal\ntext8: Personals Corpus\ntext9: The Man Who Was Thursday by G . K . Chesterton 1908\n",
          "output_type": "stream"
        }
      ]
    },
    {
      "cell_type": "markdown",
      "source": "## Searching for Words",
      "metadata": {}
    },
    {
      "cell_type": "code",
      "source": "text1.concordance(\"whale\")",
      "metadata": {
        "trusted": true
      },
      "execution_count": 8,
      "outputs": [
        {
          "name": "stdout",
          "text": "Displaying 25 of 1226 matches:\ns , and to teach them by what name a whale - fish is to be called in our tongue\nt which is not true .\" -- HACKLUYT \" WHALE . ... Sw . and Dan . HVAL . This ani\nulted .\" -- WEBSTER ' S DICTIONARY \" WHALE . ... It is more immediately from th\nISH . WAL , DUTCH . HWAL , SWEDISH . WHALE , ICELANDIC . WHALE , ENGLISH . BALE\nHWAL , SWEDISH . WHALE , ICELANDIC . WHALE , ENGLISH . BALEINE , FRENCH . BALLE\nleast , take the higgledy - piggledy whale statements , however authentic , in \n dreadful gulf of this monster ' s ( whale ' s ) mouth , are immediately lost a\n patient Job .\" -- RABELAIS . \" This whale ' s liver was two cartloads .\" -- ST\n Touching that monstrous bulk of the whale or ork we have received nothing cert\n of oil will be extracted out of one whale .\" -- IBID . \" HISTORY OF LIFE AND D\nise .\" -- KING HENRY . \" Very like a whale .\" -- HAMLET . \" Which to secure , n\nrestless paine , Like as the wounded whale to shore flies thro ' the maine .\" -\n. OF SPERMA CETI AND THE SPERMA CETI WHALE . VIDE HIS V . E . \" Like Spencer ' \nt had been a sprat in the mouth of a whale .\" -- PILGRIM ' S PROGRESS . \" That \nEN ' S ANNUS MIRABILIS . \" While the whale is floating at the stern of the ship\ne ship called The Jonas - in - the - Whale . ... Some say the whale can ' t ope\n in - the - Whale . ... Some say the whale can ' t open his mouth , but that is\n masts to see whether they can see a whale , for the first discoverer has a duc\n for his pains . ... I was told of a whale taken near Shetland , that had above\noneers told me that he caught once a whale in Spitzbergen that was white all ov\n2 , one eighty feet in length of the whale - bone kind came in , which ( as I w\nn master and kill this Sperma - ceti whale , for I could never hear of any of t\n . 1729 . \"... and the breath of the whale is frequendy attended with such an i\ned with hoops and armed with ribs of whale .\" -- RAPE OF THE LOCK . \" If we com\ncontemptible in the comparison . The whale is doubtless the largest animal in c\n",
          "output_type": "stream"
        }
      ]
    },
    {
      "cell_type": "code",
      "source": "text1.similar(\"love\")",
      "metadata": {
        "trusted": true
      },
      "execution_count": 11,
      "outputs": [
        {
          "name": "stdout",
          "text": "sea man it ship by him hand them whale view ships land me life death\nwater way head nature fear\n",
          "output_type": "stream"
        }
      ]
    },
    {
      "cell_type": "code",
      "source": "text2.similar(\"love\")",
      "metadata": {},
      "execution_count": 5,
      "outputs": [
        {
          "name": "stdout",
          "output_type": "stream",
          "text": "affection sister heart mother time see town life it dear elinor\n\nmarianne me word family her him do regard head\n"
        }
      ]
    },
    {
      "cell_type": "code",
      "source": "text5.similar(\"lol\")",
      "metadata": {},
      "execution_count": 6,
      "outputs": [
        {
          "name": "stdout",
          "output_type": "stream",
          "text": "join part hi hey and wb well ty lmao yeah hiya ok oh hello you what\n\nyes haha no all\n"
        }
      ]
    },
    {
      "cell_type": "markdown",
      "source": "## Positioning Words",
      "metadata": {}
    },
    {
      "cell_type": "code",
      "source": "text1.dispersion_plot([\"whale\", \"monster\"])",
      "metadata": {
        "trusted": true
      },
      "execution_count": 14,
      "outputs": [
        {
          "output_type": "display_data",
          "data": {
            "text/plain": "<Figure size 640x480 with 1 Axes>",
            "image/png": "[encoded data removed]"
          },
          "metadata": {}
        }
      ]
    },
    {
      "cell_type": "code",
      "source": "text2.dispersion_plot([\"love\", \"marriage\"])",
      "metadata": {
        "trusted": true
      },
      "execution_count": 15,
      "outputs": [
        {
          "output_type": "display_data",
          "data": {
            "text/plain": "<Figure size 640x480 with 1 Axes>",
            "image/png": "[encoded data removed]"
          },
          "metadata": {}
        }
      ]
    },
    {
      "cell_type": "code",
      "source": "text2.dispersion_plot([\"husband\", \"wife\"])",
      "metadata": {
        "trusted": true
      },
      "execution_count": 14,
      "outputs": [
        {
          "output_type": "display_data",
          "data": {
            "text/plain": "<Figure size 640x480 with 1 Axes>",
            "image/png": "[encoded data removed]"
          },
          "metadata": {}
        }
      ]
    },
    {
      "cell_type": "markdown",
      "source": "## Types vs. tokens",
      "metadata": {}
    },
    {
      "cell_type": "code",
      "source": "text1.count(\"whale\")",
      "metadata": {},
      "execution_count": 10,
      "outputs": [
        {
          "execution_count": 10,
          "output_type": "execute_result",
          "data": {
            "text/plain": [
              "906"
            ]
          },
          "metadata": {}
        }
      ]
    },
    {
      "cell_type": "code",
      "source": "text1.count(\"Whale\")",
      "metadata": {},
      "execution_count": 11,
      "outputs": [
        {
          "execution_count": 11,
          "output_type": "execute_result",
          "data": {
            "text/plain": [
              "282"
            ]
          },
          "metadata": {}
        }
      ]
    },
    {
      "cell_type": "code",
      "source": "text1.count(\"WHALE\")",
      "metadata": {},
      "execution_count": 12,
      "outputs": [
        {
          "execution_count": 12,
          "output_type": "execute_result",
          "data": {
            "text/plain": [
              "38"
            ]
          },
          "metadata": {}
        }
      ]
    },
    {
      "cell_type": "code",
      "source": "text1_tokens = []\nfor t in text1:\n    if t.isalpha():\n        t = t.lower()\n        text1_tokens.append(t)",
      "metadata": {},
      "execution_count": 13,
      "outputs": []
    },
    {
      "cell_type": "code",
      "source": "text1_tokens = [t.lower() for t in text1 if t.isalpha()]",
      "metadata": {},
      "execution_count": 14,
      "outputs": []
    },
    {
      "cell_type": "markdown",
      "source": "## Length and unique words",
      "metadata": {}
    },
    {
      "cell_type": "code",
      "source": "text1_tokens.count(\"whale\")",
      "metadata": {},
      "execution_count": 15,
      "outputs": [
        {
          "execution_count": 15,
          "output_type": "execute_result",
          "data": {
            "text/plain": [
              "1226"
            ]
          },
          "metadata": {}
        }
      ]
    },
    {
      "cell_type": "code",
      "source": "text1_tokens.count(\"Whale\")",
      "metadata": {},
      "execution_count": 16,
      "outputs": [
        {
          "execution_count": 16,
          "output_type": "execute_result",
          "data": {
            "text/plain": [
              "0"
            ]
          },
          "metadata": {}
        }
      ]
    },
    {
      "cell_type": "code",
      "source": "text1_tokens.count(\"WHALE\")",
      "metadata": {},
      "execution_count": 17,
      "outputs": [
        {
          "execution_count": 17,
          "output_type": "execute_result",
          "data": {
            "text/plain": [
              "0"
            ]
          },
          "metadata": {}
        }
      ]
    },
    {
      "cell_type": "code",
      "source": "len(text1_tokens)",
      "metadata": {},
      "execution_count": 18,
      "outputs": [
        {
          "execution_count": 18,
          "output_type": "execute_result",
          "data": {
            "text/plain": [
              "218361"
            ]
          },
          "metadata": {}
        }
      ]
    },
    {
      "cell_type": "code",
      "source": "len(text1)",
      "metadata": {},
      "execution_count": 19,
      "outputs": [
        {
          "execution_count": 19,
          "output_type": "execute_result",
          "data": {
            "text/plain": [
              "260819"
            ]
          },
          "metadata": {}
        }
      ]
    },
    {
      "cell_type": "code",
      "source": "# Long alternative\n\nx = set(text1_tokens)\nlen(x)",
      "metadata": {},
      "execution_count": 20,
      "outputs": [
        {
          "execution_count": 20,
          "output_type": "execute_result",
          "data": {
            "text/plain": [
              "16948"
            ]
          },
          "metadata": {}
        }
      ]
    },
    {
      "cell_type": "code",
      "source": "# Short and sweet alternative\nlen(set(text1_tokens))",
      "metadata": {},
      "execution_count": 21,
      "outputs": [
        {
          "execution_count": 21,
          "output_type": "execute_result",
          "data": {
            "text/plain": [
              "16948"
            ]
          },
          "metadata": {}
        }
      ]
    },
    {
      "cell_type": "markdown",
      "source": "## Lexical density",
      "metadata": {}
    },
    {
      "cell_type": "code",
      "source": "len(set(text1_tokens)) / len(text1_tokens)",
      "metadata": {},
      "execution_count": 22,
      "outputs": [
        {
          "execution_count": 22,
          "output_type": "execute_result",
          "data": {
            "text/plain": [
              "0.07761459234936642"
            ]
          },
          "metadata": {}
        }
      ]
    },
    {
      "cell_type": "code",
      "source": "text1_slice = text1_tokens[0:10000]",
      "metadata": {},
      "execution_count": 23,
      "outputs": []
    },
    {
      "cell_type": "code",
      "source": "len(set(text1_slice)) / len(text1_slice)",
      "metadata": {},
      "execution_count": 24,
      "outputs": [
        {
          "execution_count": 24,
          "output_type": "execute_result",
          "data": {
            "text/plain": [
              "0.2816"
            ]
          },
          "metadata": {}
        }
      ]
    },
    {
      "cell_type": "code",
      "source": "text2_tokens = []\nfor t in text2:\n    if t.isalpha():\n        t = t.lower()\n        text2_tokens.append(t)\n        \ntext2_slice = text2_tokens[0:10000]\n\nlen(set(text2_slice)) / len(text2_slice)",
      "metadata": {},
      "execution_count": 25,
      "outputs": [
        {
          "execution_count": 25,
          "output_type": "execute_result",
          "data": {
            "text/plain": [
              "0.1786"
            ]
          },
          "metadata": {}
        }
      ]
    },
    {
      "cell_type": "markdown",
      "source": "## Data Cleaning: removing Stopwords",
      "metadata": {}
    },
    {
      "cell_type": "code",
      "source": "from nltk.corpus import stopwords",
      "metadata": {},
      "execution_count": 26,
      "outputs": []
    },
    {
      "cell_type": "code",
      "source": "stops = stopwords.words('english')",
      "metadata": {},
      "execution_count": 27,
      "outputs": []
    },
    {
      "cell_type": "code",
      "source": "print(stops)",
      "metadata": {},
      "execution_count": 28,
      "outputs": [
        {
          "name": "stdout",
          "output_type": "stream",
          "text": "['i', 'me', 'my', 'myself', 'we', 'our', 'ours', 'ourselves', 'you', \"you're\", \"you've\", \"you'll\", \"you'd\", 'your', 'yours', 'yourself', 'yourselves', 'he', 'him', 'his', 'himself', 'she', \"she's\", 'her', 'hers', 'herself', 'it', \"it's\", 'its', 'itself', 'they', 'them', 'their', 'theirs', 'themselves', 'what', 'which', 'who', 'whom', 'this', 'that', \"that'll\", 'these', 'those', 'am', 'is', 'are', 'was', 'were', 'be', 'been', 'being', 'have', 'has', 'had', 'having', 'do', 'does', 'did', 'doing', 'a', 'an', 'the', 'and', 'but', 'if', 'or', 'because', 'as', 'until', 'while', 'of', 'at', 'by', 'for', 'with', 'about', 'against', 'between', 'into', 'through', 'during', 'before', 'after', 'above', 'below', 'to', 'from', 'up', 'down', 'in', 'out', 'on', 'off', 'over', 'under', 'again', 'further', 'then', 'once', 'here', 'there', 'when', 'where', 'why', 'how', 'all', 'any', 'both', 'each', 'few', 'more', 'most', 'other', 'some', 'such', 'no', 'nor', 'not', 'only', 'own', 'same', 'so', 'than', 'too', 'very', 's', 't', 'can', 'will', 'just', 'don', \"don't\", 'should', \"should've\", 'now', 'd', 'll', 'm', 'o', 're', 've', 'y', 'ain', 'aren', \"aren't\", 'couldn', \"couldn't\", 'didn', \"didn't\", 'doesn', \"doesn't\", 'hadn', \"hadn't\", 'hasn', \"hasn't\", 'haven', \"haven't\", 'isn', \"isn't\", 'ma', 'mightn', \"mightn't\", 'mustn', \"mustn't\", 'needn', \"needn't\", 'shan', \"shan't\", 'shouldn', \"shouldn't\", 'wasn', \"wasn't\", 'weren', \"weren't\", 'won', \"won't\", 'wouldn', \"wouldn't\"]\n"
        }
      ]
    },
    {
      "cell_type": "code",
      "source": "text1_stops = []\nfor t in text1_tokens:\n    if t not in stops:\n        text1_stops.append(t)",
      "metadata": {},
      "execution_count": 29,
      "outputs": []
    },
    {
      "cell_type": "code",
      "source": "text1_stops = [t for t in text1_tokens if t not in stops]",
      "metadata": {},
      "execution_count": 30,
      "outputs": []
    },
    {
      "cell_type": "code",
      "source": "print(text1_stops[:30])",
      "metadata": {},
      "execution_count": 31,
      "outputs": [
        {
          "name": "stdout",
          "output_type": "stream",
          "text": "['moby', 'dick', 'herman', 'melville', 'etymology', 'supplied', 'late', 'consumptive', 'usher', 'grammar', 'school', 'pale', 'usher', 'threadbare', 'coat', 'heart', 'body', 'brain', 'see', 'ever', 'dusting', 'old', 'lexicons', 'grammars', 'queer', 'handkerchief', 'mockingly', 'embellished', 'gay', 'flags']\n"
        }
      ]
    },
    {
      "cell_type": "code",
      "source": "len(text1_stops)",
      "metadata": {},
      "execution_count": 32,
      "outputs": [
        {
          "execution_count": 32,
          "output_type": "execute_result",
          "data": {
            "text/plain": [
              "110459"
            ]
          },
          "metadata": {}
        }
      ]
    },
    {
      "cell_type": "code",
      "source": "len(set(text1_stops))",
      "metadata": {},
      "execution_count": 33,
      "outputs": [
        {
          "execution_count": 33,
          "output_type": "execute_result",
          "data": {
            "text/plain": [
              "16802"
            ]
          },
          "metadata": {}
        }
      ]
    },
    {
      "cell_type": "markdown",
      "source": "## Data Cleaning: Lemmatizing Words",
      "metadata": {}
    },
    {
      "cell_type": "code",
      "source": "from nltk.stem import WordNetLemmatizer",
      "metadata": {},
      "execution_count": 34,
      "outputs": []
    },
    {
      "cell_type": "code",
      "source": "wordnet_lemmatizer = WordNetLemmatizer()",
      "metadata": {},
      "execution_count": 35,
      "outputs": []
    },
    {
      "cell_type": "code",
      "source": "wordnet_lemmatizer.lemmatize(\"children\")",
      "metadata": {},
      "execution_count": 36,
      "outputs": [
        {
          "execution_count": 36,
          "output_type": "execute_result",
          "data": {
            "text/plain": [
              "'child'"
            ]
          },
          "metadata": {}
        }
      ]
    },
    {
      "cell_type": "code",
      "source": "wordnet_lemmatizer.lemmatize(\"better\")",
      "metadata": {},
      "execution_count": 37,
      "outputs": [
        {
          "execution_count": 37,
          "output_type": "execute_result",
          "data": {
            "text/plain": [
              "'better'"
            ]
          },
          "metadata": {}
        }
      ]
    },
    {
      "cell_type": "code",
      "source": "wordnet_lemmatizer.lemmatize(\"better\", pos='a')",
      "metadata": {},
      "execution_count": 38,
      "outputs": [
        {
          "execution_count": 38,
          "output_type": "execute_result",
          "data": {
            "text/plain": [
              "'good'"
            ]
          },
          "metadata": {}
        }
      ]
    },
    {
      "cell_type": "code",
      "source": "text1_clean = []\nfor t in text1_stops:\n    t_lem = wordnet_lemmatizer.lemmatize(t)\n    text1_clean.append(t_lem)",
      "metadata": {},
      "execution_count": 39,
      "outputs": []
    },
    {
      "cell_type": "code",
      "source": "text1_clean = [wordnet_lemmatizer.lemmatize(t) for t in text1_stops]",
      "metadata": {},
      "execution_count": 40,
      "outputs": []
    },
    {
      "cell_type": "code",
      "source": "print(len(text1_clean))\nprint(len(set(text1_clean)))",
      "metadata": {},
      "execution_count": 41,
      "outputs": [
        {
          "name": "stdout",
          "output_type": "stream",
          "text": "110459\n\n14750\n"
        }
      ]
    },
    {
      "cell_type": "code",
      "source": "sorted(set(text1_clean))[:30]",
      "metadata": {},
      "execution_count": 42,
      "outputs": [
        {
          "execution_count": 42,
          "output_type": "execute_result",
          "data": {
            "text/plain": [
              "['aback',\n",
              " 'abaft',\n",
              " 'abandon',\n",
              " 'abandoned',\n",
              " 'abandonedly',\n",
              " 'abandonment',\n",
              " 'abased',\n",
              " 'abasement',\n",
              " 'abashed',\n",
              " 'abate',\n",
              " 'abated',\n",
              " 'abatement',\n",
              " 'abating',\n",
              " 'abbreviate',\n",
              " 'abbreviation',\n",
              " 'abeam',\n",
              " 'abed',\n",
              " 'abednego',\n",
              " 'abel',\n",
              " 'abhorred',\n",
              " 'abhorrence',\n",
              " 'abhorrent',\n",
              " 'abhorring',\n",
              " 'abide',\n",
              " 'abided',\n",
              " 'abiding',\n",
              " 'ability',\n",
              " 'abjectly',\n",
              " 'abjectus',\n",
              " 'able']"
            ]
          },
          "metadata": {}
        }
      ]
    },
    {
      "cell_type": "markdown",
      "source": "## Data cleaning: Stemming Words",
      "metadata": {}
    },
    {
      "cell_type": "code",
      "source": "from nltk.stem import PorterStemmer\nporter_stemmer = PorterStemmer()",
      "metadata": {},
      "execution_count": 43,
      "outputs": []
    },
    {
      "cell_type": "code",
      "source": "print(porter_stemmer.stem('berry'))\nprint(porter_stemmer.stem('berries'))\nprint(wordnet_lemmatizer.lemmatize('berry'))\nprint(wordnet_lemmatizer.lemmatize('berries'))",
      "metadata": {},
      "execution_count": 44,
      "outputs": [
        {
          "name": "stdout",
          "output_type": "stream",
          "text": "berri\n\nberri\n\nberry\n\nberry\n"
        }
      ]
    },
    {
      "cell_type": "code",
      "source": "print(porter_stemmer.stem('abandon'))\nprint(porter_stemmer.stem('abandoned'))\nprint(porter_stemmer.stem('abandonly'))\nprint(porter_stemmer.stem('abandonment'))",
      "metadata": {},
      "execution_count": 45,
      "outputs": [
        {
          "name": "stdout",
          "output_type": "stream",
          "text": "abandon\n\nabandon\n\nabandonli\n\nabandon\n"
        }
      ]
    },
    {
      "cell_type": "code",
      "source": "t1_porter = []\nfor t in text1_clean:\n    t_stemmed = porter_stemmer.stem(t)\n    t1_porter.append(t_stemmed)\n    ",
      "metadata": {},
      "execution_count": 46,
      "outputs": []
    },
    {
      "cell_type": "code",
      "source": "t1_porter = [porter_stemmer.stem(t) for t in text1_clean]",
      "metadata": {},
      "execution_count": 47,
      "outputs": []
    },
    {
      "cell_type": "code",
      "source": "print(len(set(t1_porter)))\nprint(sorted(set(t1_porter))[:30])",
      "metadata": {},
      "execution_count": 48,
      "outputs": [
        {
          "name": "stdout",
          "output_type": "stream",
          "text": "10501\n\n['aback', 'abaft', 'abandon', 'abandonedli', 'abas', 'abash', 'abat', 'abbrevi', 'abe', 'abeam', 'abednego', 'abel', 'abhor', 'abhorr', 'abid', 'abil', 'abjectli', 'abjectu', 'abl', 'ablut', 'aboard', 'abod', 'abomin', 'aborigin', 'abort', 'abound', 'aboundingli', 'abraham', 'abreast', 'abridg']\n"
        }
      ]
    },
    {
      "cell_type": "markdown",
      "source": "## Data cleaning: results\n",
      "metadata": {}
    },
    {
      "cell_type": "code",
      "source": "my_dist = FreqDist(text1_clean)",
      "metadata": {},
      "execution_count": 49,
      "outputs": []
    },
    {
      "cell_type": "code",
      "source": "type(my_dist)",
      "metadata": {},
      "execution_count": 50,
      "outputs": [
        {
          "execution_count": 50,
          "output_type": "execute_result",
          "data": {
            "text/plain": [
              "nltk.probability.FreqDist"
            ]
          },
          "metadata": {}
        }
      ]
    },
    {
      "cell_type": "code",
      "source": "my_dist.plot(20)",
      "metadata": {},
      "execution_count": 51,
      "outputs": [
        {
          "output_type": "display_data",
          "data": {
            "image/png": "[encoded data removed]",
            "text/plain": [
              "<Figure size 432x288 with 1 Axes>"
            ]
          },
          "metadata": {
            "needs_background": "light"
          }
        },
        {
          "execution_count": 51,
          "output_type": "execute_result",
          "data": {
            "text/plain": [
              "<matplotlib.axes._subplots.AxesSubplot at 0x1270ed21d88>"
            ]
          },
          "metadata": {}
        }
      ]
    },
    {
      "cell_type": "code",
      "source": "my_dist.most_common(20)",
      "metadata": {},
      "execution_count": 52,
      "outputs": [
        {
          "execution_count": 52,
          "output_type": "execute_result",
          "data": {
            "text/plain": [
              "[('whale', 1494),\n",
              " ('one', 940),\n",
              " ('like', 650),\n",
              " ('ship', 605),\n",
              " ('upon', 566),\n",
              " ('sea', 542),\n",
              " ('man', 527),\n",
              " ('ahab', 512),\n",
              " ('boat', 483),\n",
              " ('ye', 472),\n",
              " ('old', 450),\n",
              " ('time', 446),\n",
              " ('would', 432),\n",
              " ('head', 431),\n",
              " ('though', 384),\n",
              " ('captain', 353),\n",
              " ('yet', 345),\n",
              " ('hand', 344),\n",
              " ('long', 333),\n",
              " ('thing', 320)]"
            ]
          },
          "metadata": {}
        }
      ]
    },
    {
      "cell_type": "code",
      "source": "b_words = ['god', 'apostle', 'angel']",
      "metadata": {},
      "execution_count": 53,
      "outputs": []
    },
    {
      "cell_type": "code",
      "source": "my_list = []\nfor word in b_words:\n    if word in text1_clean:\n        my_list.append(word)\n    else:\n        pass\n                    ",
      "metadata": {},
      "execution_count": 54,
      "outputs": []
    },
    {
      "cell_type": "code",
      "source": "print(my_list)",
      "metadata": {},
      "execution_count": 55,
      "outputs": [
        {
          "name": "stdout",
          "output_type": "stream",
          "text": "['god', 'angel']\n"
        }
      ]
    },
    {
      "cell_type": "code",
      "source": "my_list2 = [word for word in b_words if word in text1_clean]",
      "metadata": {},
      "execution_count": 56,
      "outputs": []
    },
    {
      "cell_type": "code",
      "source": "my_list == my_list2",
      "metadata": {},
      "execution_count": 57,
      "outputs": [
        {
          "execution_count": 57,
          "output_type": "execute_result",
          "data": {
            "text/plain": [
              "True"
            ]
          },
          "metadata": {}
        }
      ]
    },
    {
      "cell_type": "markdown",
      "source": "## Make Your Own Corpus",
      "metadata": {}
    },
    {
      "cell_type": "code",
      "source": "from urllib.request import urlopen",
      "metadata": {},
      "execution_count": 58,
      "outputs": []
    },
    {
      "cell_type": "code",
      "source": "my_url = \"http://www.gutenberg.org/files/996/996-0.txt\"",
      "metadata": {},
      "execution_count": 59,
      "outputs": []
    },
    {
      "cell_type": "code",
      "source": "file = urlopen(my_url)\nraw = file.read()",
      "metadata": {},
      "execution_count": 60,
      "outputs": []
    },
    {
      "cell_type": "code",
      "source": "don = raw.decode()",
      "metadata": {},
      "execution_count": 61,
      "outputs": []
    },
    {
      "cell_type": "code",
      "source": "type(don)",
      "metadata": {},
      "execution_count": 62,
      "outputs": [
        {
          "execution_count": 62,
          "output_type": "execute_result",
          "data": {
            "text/plain": [
              "str"
            ]
          },
          "metadata": {}
        }
      ]
    },
    {
      "cell_type": "code",
      "source": "don_tokens = nltk.word_tokenize(don)",
      "metadata": {},
      "execution_count": 63,
      "outputs": []
    },
    {
      "cell_type": "code",
      "source": "len(don_tokens)",
      "metadata": {},
      "execution_count": 64,
      "outputs": [
        {
          "execution_count": 64,
          "output_type": "execute_result",
          "data": {
            "text/plain": [
              "498721"
            ]
          },
          "metadata": {}
        }
      ]
    },
    {
      "cell_type": "code",
      "source": "don_tokens[:10]",
      "metadata": {},
      "execution_count": 65,
      "outputs": [
        {
          "execution_count": 65,
          "output_type": "execute_result",
          "data": {
            "text/plain": [
              "['\\ufeff',\n",
              " 'The',\n",
              " 'Project',\n",
              " 'Gutenberg',\n",
              " 'EBook',\n",
              " 'of',\n",
              " 'The',\n",
              " 'History',\n",
              " 'of',\n",
              " 'Don']"
            ]
          },
          "metadata": {}
        }
      ]
    },
    {
      "cell_type": "code",
      "source": "dq_text = don_tokens[320:]",
      "metadata": {},
      "execution_count": 66,
      "outputs": []
    },
    {
      "cell_type": "code",
      "source": "print(dq_text[:30])",
      "metadata": {},
      "execution_count": 67,
      "outputs": [
        {
          "name": "stdout",
          "output_type": "stream",
          "text": "['I', 'CHAPTER', 'I', 'WHICH', 'TREATS', 'OF', 'THE', 'CHARACTER', 'AND', 'PURSUITS', 'OF', 'THE', 'FAMOUS', 'GENTLEMAN', 'DON', 'QUIXOTE', 'OF', 'LA', 'MANCHA', 'CHAPTER', 'II', 'WHICH', 'TREATS', 'OF', 'THE', 'FIRST', 'SALLY', 'THE', 'INGENIOUS', 'DON']\n"
        }
      ]
    },
    {
      "cell_type": "code",
      "source": "dq_nltk_text = nltk.Text(dq_text)",
      "metadata": {},
      "execution_count": 68,
      "outputs": []
    },
    {
      "cell_type": "code",
      "source": "type(dq_nltk_text)",
      "metadata": {},
      "execution_count": 69,
      "outputs": [
        {
          "execution_count": 69,
          "output_type": "execute_result",
          "data": {
            "text/plain": [
              "nltk.text.Text"
            ]
          },
          "metadata": {}
        }
      ]
    },
    {
      "cell_type": "code",
      "source": "dq_clean = []\nfor word in dq_text:\n    if word.isalpha():\n        if word.lower() not in stops:\n            dq_clean.append(word.lower())\nprint(dq_clean[:50])",
      "metadata": {},
      "execution_count": 70,
      "outputs": [
        {
          "name": "stdout",
          "output_type": "stream",
          "text": "['chapter', 'treats', 'character', 'pursuits', 'famous', 'gentleman', 'quixote', 'la', 'mancha', 'chapter', 'ii', 'treats', 'first', 'sally', 'ingenious', 'quixote', 'made', 'home', 'chapter', 'iii', 'wherein', 'related', 'droll', 'way', 'quixote', 'dubbed', 'knight', 'chapter', 'iv', 'happened', 'knight', 'left', 'inn', 'chapter', 'v', 'narrative', 'knight', 'mishap', 'continued', 'chapter', 'vi', 'diverting', 'important', 'scrutiny', 'curate', 'barber', 'made', 'library', 'ingenious', 'gentleman']\n"
        }
      ]
    },
    {
      "cell_type": "code",
      "source": "from nltk.stem import WordNetLemmatizer\nwordnet_lemmatizer = WordNetLemmatizer()\n\ndq_lemmatized = []\nfor t in dq_clean:\n    dq_lemmatized.append(wordnet_lemmatizer.lemmatize(t))",
      "metadata": {},
      "execution_count": 71,
      "outputs": []
    },
    {
      "cell_type": "markdown",
      "source": "## Part-of-Speech Tagging",
      "metadata": {}
    },
    {
      "cell_type": "code",
      "source": "dq_tagged = nltk.pos_tag(dq_text)",
      "metadata": {},
      "execution_count": 72,
      "outputs": []
    },
    {
      "cell_type": "code",
      "source": "print(dq_tagged[:10])",
      "metadata": {},
      "execution_count": 73,
      "outputs": [
        {
          "name": "stdout",
          "output_type": "stream",
          "text": "[('I', 'PRP'), ('CHAPTER', 'VBP'), ('I', 'PRP'), ('WHICH', 'NNP'), ('TREATS', 'NNP'), ('OF', 'IN'), ('THE', 'NNP'), ('CHARACTER', 'NNP'), ('AND', 'NNP'), ('PURSUITS', 'NNP')]\n"
        }
      ]
    },
    {
      "cell_type": "code",
      "source": "tag_dict = {}\n# for every word/tag pair in my list,\nfor (word, tag) in dq_tagged:\n    if tag in tag_dict:\n        tag_dict[tag]+=1\n    else:\n        tag_dict[tag] = 1",
      "metadata": {},
      "execution_count": 74,
      "outputs": []
    },
    {
      "cell_type": "code",
      "source": "tag_dict",
      "metadata": {},
      "execution_count": 75,
      "outputs": [
        {
          "execution_count": 75,
          "output_type": "execute_result",
          "data": {
            "text/plain": [
              "{'PRP': 36100,\n",
              " 'VBP': 9658,\n",
              " 'NNP': 31836,\n",
              " 'IN': 57945,\n",
              " 'VBD': 23503,\n",
              " ',': 36910,\n",
              " 'CC': 22993,\n",
              " 'VB': 21198,\n",
              " 'MD': 7256,\n",
              " 'DT': 40778,\n",
              " ':': 6442,\n",
              " 'CD': 3108,\n",
              " 'VBZ': 8316,\n",
              " 'RP': 1916,\n",
              " 'JJ': 24445,\n",
              " 'NN': 62303,\n",
              " 'WP': 4157,\n",
              " 'NNS': 15271,\n",
              " 'RB': 20227,\n",
              " 'VBN': 10087,\n",
              " 'WDT': 3546,\n",
              " '.': 7119,\n",
              " 'EX': 1073,\n",
              " 'TO': 13801,\n",
              " 'PRP$': 12231,\n",
              " 'VBG': 7727,\n",
              " 'RBS': 253,\n",
              " 'JJS': 954,\n",
              " 'PDT': 1118,\n",
              " 'RBR': 655,\n",
              " 'JJR': 1294,\n",
              " 'FW': 381,\n",
              " '(': 574,\n",
              " ')': 574,\n",
              " 'WP$': 137,\n",
              " 'WRB': 2147,\n",
              " 'POS': 14,\n",
              " 'NNPS': 155,\n",
              " 'UH': 85,\n",
              " \"''\": 111,\n",
              " '$': 3}"
            ]
          },
          "metadata": {}
        }
      ]
    },
    {
      "cell_type": "code",
      "source": "tag_dict_sorted = sorted(tag_dict.items(),\n                        reverse=True,\n                        key=lambda kv: kv[1])\nprint(tag_dict_sorted)",
      "metadata": {},
      "execution_count": 76,
      "outputs": [
        {
          "name": "stdout",
          "output_type": "stream",
          "text": "[('NN', 62303), ('IN', 57945), ('DT', 40778), (',', 36910), ('PRP', 36100), ('NNP', 31836), ('JJ', 24445), ('VBD', 23503), ('CC', 22993), ('VB', 21198), ('RB', 20227), ('NNS', 15271), ('TO', 13801), ('PRP$', 12231), ('VBN', 10087), ('VBP', 9658), ('VBZ', 8316), ('VBG', 7727), ('MD', 7256), ('.', 7119), (':', 6442), ('WP', 4157), ('WDT', 3546), ('CD', 3108), ('WRB', 2147), ('RP', 1916), ('JJR', 1294), ('PDT', 1118), ('EX', 1073), ('JJS', 954), ('RBR', 655), ('(', 574), (')', 574), ('FW', 381), ('RBS', 253), ('NNPS', 155), ('WP$', 137), (\"''\", 111), ('UH', 85), ('POS', 14), ('$', 3)]\n"
        }
      ]
    },
    {
      "cell_type": "code",
      "source": "",
      "metadata": {},
      "execution_count": null,
      "outputs": []
    }
  ]
}